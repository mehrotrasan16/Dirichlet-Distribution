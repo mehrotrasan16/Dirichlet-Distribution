{
 "cells": [
  {
   "cell_type": "markdown",
   "metadata": {
    "toc": true
   },
   "source": [
    "<h1>Table of Contents<span class=\"tocSkip\"></span></h1>\n",
    "<div class=\"toc\"><ul class=\"toc-item\"><li><span><a href=\"#A-notebook-visualizing-a-dirichlet-distribution\" data-toc-modified-id=\"A-notebook-visualizing-a-dirichlet-distribution-1\"><span class=\"toc-item-num\">1&nbsp;&nbsp;</span>A notebook visualizing a dirichlet distribution</a></span></li><li><span><a href=\"#What-is-a-Dirichlet-Distribution?\" data-toc-modified-id=\"What-is-a-Dirichlet-Distribution?-2\"><span class=\"toc-item-num\">2&nbsp;&nbsp;</span>What is a Dirichlet Distribution?</a></span><ul class=\"toc-item\"><li><span><a href=\"#Case-Study:-Dice\" data-toc-modified-id=\"Case-Study:-Dice-2.1\"><span class=\"toc-item-num\">2.1&nbsp;&nbsp;</span>Case Study: Dice</a></span></li></ul></li><li><span><a href=\"#Setting-up-the-code\" data-toc-modified-id=\"Setting-up-the-code-3\"><span class=\"toc-item-num\">3&nbsp;&nbsp;</span>Setting up the code</a></span></li><li><span><a href=\"#Output\" data-toc-modified-id=\"Output-4\"><span class=\"toc-item-num\">4&nbsp;&nbsp;</span>Output</a></span></li></ul></div>"
   ]
  },
  {
   "cell_type": "markdown",
   "metadata": {},
   "source": [
    "# A notebook visualizing a dirichlet distribution\n",
    "by Sanket Mehrotra"
   ]
  },
  {
   "cell_type": "markdown",
   "metadata": {},
   "source": [
    "For my understanding of a latent dirichlet allocation as specified in [this paper](https://oudalab.github.io/papers/grant2015topic.pdf) about developing Topic Based Search engines. Code and material from [this page](http://blog.bogatron.net/blog/2014/02/02/visualizing-dirichlet-distributions/)"
   ]
  },
  {
   "cell_type": "markdown",
   "metadata": {},
   "source": [
    "# What is a Dirichlet Distribution?"
   ]
  },
  {
   "cell_type": "markdown",
   "metadata": {},
   "source": [
    "A distribution that can help us find the probability(or probablility density) under certain multinomial distribution conditions:\n"
   ]
  },
  {
   "cell_type": "markdown",
   "metadata": {},
   "source": [
    "## Case Study: Dice "
   ]
  },
  {
   "cell_type": "markdown",
   "metadata": {},
   "source": [
    "To understand what the Dirichlet distribution describes, it is useful to consider how it can characterize the variability of a random multinomial distribution. Suppose we are going to manufacture 6-sided dice. But for this example, we only want the allowable outcome of a die roll to be the number 1, 2, or 3. So when we produce a die, we will place the number 1 on two of the faces and likewise for the numbers 2 and 3. If we produce a \"fair\" die, then the probabilites of the three outcomes will be equal (the probability for each outcome will 1/3). We can represent the probabilities for the possible outcomes as a vector ($\\theta$)\n",
    "\n",
    "$$\\theta = (\\frac{1}{3},\\frac{1}{3},\\frac{1}{3})$$"
   ]
  },
  {
   "cell_type": "markdown",
   "metadata": {},
   "source": [
    "If we wanted to cheat, we could produce a \"loaded\" die, that gives us a higher probability of rolling a 3:\n",
    "\n",
    "$$\\theta = (\\frac{0.9}{3},\\frac{1}{3},\\frac{1.1}{3})$$"
   ]
  },
  {
   "cell_type": "markdown",
   "metadata": {},
   "source": [
    "Regardless of whether we produce a fair or loaded die, $\\theta$ has two imporant properties. \n",
    "1. The sum of probabilities for each outcome must equal 1.\n",
    "\n",
    "$$\\Sigma\\theta_i = \\theta_1 + \\theta_2 + \\theta_3 = 1$$"
   ]
  },
  {
   "cell_type": "markdown",
   "metadata": {},
   "source": [
    "2. None of the probabilities can be negative\n",
    "\n",
    "When these conditions hold, probabilities associated with the results of rolling the die are described by a multinomial distribution.\n"
   ]
  },
  {
   "cell_type": "markdown",
   "metadata": {},
   "source": [
    "Regardless of whether we are attempting to produce fair or loaded dice, there will be some variability in the characteristics of the dice we produce. So even if we try to produce fair dice, we won't expect that the probabilities of each outcome for a particular die will be exactly 1/3. If we were to hand-carve each die from a wooden block, we would expect significant variability in the dice we produce, due to the limitations of our craftsmanship, variability in the density of the wood, characteristics of the tools we use, etc. If instead, we were to use a fancy 3D printer to manufacture our dice, we would expect the resulting dice to be much more precise, having significantly less variability than our hand-carved dice."
   ]
  },
  {
   "cell_type": "markdown",
   "metadata": {},
   "source": [
    "To characterize this variability mathematically, we would like to know the probability (probability density) of every possible value of \n",
    "$\\theta$\n",
    " for a given manufacturing process. To do this, let's consider each element of \n",
    "$\\theta$\n",
    " as being an independent variable. That is, for $\\theta = \\{\\theta_1,\\theta_2,\\theta_3\\}$, we can treat \n",
    "$\\theta_1$, $\\theta_2$, and $\\theta_3$ each as an independent variable and $\\theta$ as a vector in a 3-dimensional space. Since the multinomial distribution requires that these three variables sum to 1, we know that the allowable values of $\\theta_1$ are confined to a plane. Furthermore, since each value \n",
    "$\\theta_i$ must be greater than or equal to zero, the set of all allowable values of $\\theta$ is confined to an equilateral triangle  (a 2-simplex) as shown below."
   ]
  },
  {
   "cell_type": "markdown",
   "metadata": {},
   "source": [
    "![image](http://blog.bogatron.net/downloads/notebooks/images/simplex2.svg)"
   ]
  },
  {
   "cell_type": "markdown",
   "metadata": {},
   "source": [
    "What we want is to know the probability density at each point on this triangle. That is where the Dirichlet distribution can help us. The Dirichlet distribution defines a probability density for a vector-valued input having the same characteristics as our multinomial parameter ($\\theta$). Let's start with the formula for the probability density associated with a Dirichlet distribution:"
   ]
  },
  {
   "cell_type": "markdown",
   "metadata": {},
   "source": [
    "$$Dir(\\alpha) \\rightarrow p(\\theta | \\alpha) = \\frac{\\Gamma(\\Sigma_{i=1}^{k}\\alpha_i)}{\\Pi_{i=1}^{k}\\Gamma(\\alpha_i)} \\Pi_{i=1}^{k}\\theta_i^{\\alpha_i -1}$$"
   ]
  },
  {
   "cell_type": "markdown",
   "metadata": {},
   "source": [
    "It's not important to understand the the formula in its entirety but a few details are worth noting. The Dirichlet distribution is parameterized by the vector $\\alpha$, which has the same number of elements (k) as our multinomial parameter $\\theta$. In our case, $k=3$. So you can interpret \n",
    "$p(\\theta∣\\alpha)$\n",
    " as answering the question \"what is the probability density associated with multinomial distribution $\\theta$, given that our Dirichlet distribution has parameter $\\alpha$.\" Our goal is to visualize how $Dir(\\alpha)$ varies over the simplex of allowable values of $\\theta$ for a given value of $\\alpha$."
   ]
  },
  {
   "cell_type": "markdown",
   "metadata": {},
   "source": [
    "# Setting up the code"
   ]
  },
  {
   "cell_type": "markdown",
   "metadata": {},
   "source": [
    "Before we can plot our Dirichlet distributions, we need to do three things:\n",
    "\n",
    "1. Generate a set of Cartesian coordinates over our equilateral triangle\n",
    "\n",
    "2. Map the Cartesian coordinates to the 2-simplex coordinate space\n",
    "\n",
    "3. Compute Dir(α) for each point"
   ]
  },
  {
   "cell_type": "markdown",
   "metadata": {},
   "source": [
    "There are numerous ways we could go about generating a set of points over the simplex. For example, we could randomly sample a uniform Dirichlet and map those points back to the Cartesian space. But that approach can result in undesirable display artifacts near the simplex boundaries for small values of \n",
    "α\n",
    ". As of version 1.3, matplotlib provides some convenient functions we can use for generating and refining triangular meshes. Let's start with the corners of our equilateral triangle and define a triangular mesh consisting of just a single element."
   ]
  },
  {
   "cell_type": "code",
   "execution_count": 1,
   "metadata": {},
   "outputs": [],
   "source": [
    "%matplotlib inline\n",
    "import numpy as np\n",
    "import matplotlib.pyplot as plt\n",
    "import matplotlib.tri as tri\n",
    "\n",
    "corners = np.array([[0,0],[1,0],[0.5,0.75**0.5]])\n",
    "AREA = 0.5 * 1 * 0.75**0.5\n",
    "triangle = tri.Triangulation(corners[:,0],corners[:,1])"
   ]
  },
  {
   "cell_type": "code",
   "execution_count": 8,
   "metadata": {},
   "outputs": [
    {
     "name": "stdout",
     "output_type": "stream",
     "text": [
      "[[0.        0.       ]\n",
      " [1.        0.       ]\n",
      " [0.5       0.8660254]] \n",
      "\n",
      " 0.4330127018922193\n"
     ]
    }
   ],
   "source": [
    "print(corners,\"\\n\\n\",AREA)"
   ]
  },
  {
   "cell_type": "code",
   "execution_count": 10,
   "metadata": {},
   "outputs": [
    {
     "name": "stdout",
     "output_type": "stream",
     "text": [
      "[0.  1.  0.5] [0.        0.        0.8660254] <matplotlib.tri.triangulation.Triangulation object at 0x00000230B63DD508>\n"
     ]
    }
   ],
   "source": [
    "print(corners[:,0],corners[:,1], triangle)"
   ]
  },
  {
   "cell_type": "code",
   "execution_count": 11,
   "metadata": {},
   "outputs": [],
   "source": [
    "refiner = tri.UniformTriRefiner(triangle)"
   ]
  },
  {
   "cell_type": "code",
   "execution_count": 12,
   "metadata": {},
   "outputs": [],
   "source": [
    "trimesh = refiner.refine_triangulation(subdiv=4)"
   ]
  },
  {
   "cell_type": "code",
   "execution_count": 17,
   "metadata": {},
   "outputs": [],
   "source": [
    "trimesh?"
   ]
  },
  {
   "cell_type": "code",
   "execution_count": 15,
   "metadata": {},
   "outputs": [
    {
     "data": {
      "text/plain": [
       "<Figure size 576x288 with 0 Axes>"
      ]
     },
     "execution_count": 15,
     "metadata": {},
     "output_type": "execute_result"
    },
    {
     "data": {
      "text/plain": [
       "<Figure size 576x288 with 0 Axes>"
      ]
     },
     "metadata": {},
     "output_type": "display_data"
    }
   ],
   "source": [
    "plt.figure(figsize=(8,4))"
   ]
  },
  {
   "cell_type": "code",
   "execution_count": 24,
   "metadata": {},
   "outputs": [
    {
     "data": {
      "image/png": "[encoded data removed]",
      "text/plain": [
       "<Figure size 432x288 with 2 Axes>"
      ]
     },
     "metadata": {
      "needs_background": "light"
     },
     "output_type": "display_data"
    }
   ],
   "source": [
    "for (i,mesh) in enumerate((triangle,trimesh)):\n",
    "    plt.subplot(1,2,1+i)\n",
    "    plt.triplot(mesh)\n",
    "    plt.axis('off')\n",
    "    plt.axis('equal')"
   ]
  },
  {
   "cell_type": "markdown",
   "metadata": {},
   "source": [
    "The mesh above is just an example - we'll use a much finer mesh for our plots.\n",
    "\n",
    "Next, we need to map the x-y coordinates of the mesh vertices to the simplex coordinate space (a.k.a. barycentric coordinates). There are several ways to perform this transform. For each corner of the triangle, the associated barycentric coordinate component for a point (x, y) is equal to the fraction of the triangle covered by a new triangle created by replacing the corner with (x, y). For some values of \n",
    "α\n",
    ", calculation of the Dirichlet pdf can become numerically unstable at the boundaries of the simplex so our conversion function will take an optional tolerance that will avoid barycentric coordinate values directly on the simplex boundary."
   ]
  },
  {
   "cell_type": "code",
   "execution_count": 34,
   "metadata": {},
   "outputs": [
    {
     "name": "stdout",
     "output_type": "stream",
     "text": [
      "[[1.        0.       ]\n",
      " [0.5       0.8660254]]\n"
     ]
    }
   ],
   "source": [
    "# For each corner of the triangle, the pair of other corners\n",
    "pairs = [corners[np.roll(range(3),-i)[1:]] for i in range(3)]\n",
    "print(pairs[0])"
   ]
  },
  {
   "cell_type": "code",
   "execution_count": 39,
   "metadata": {},
   "outputs": [],
   "source": [
    "np.cross?"
   ]
  },
  {
   "cell_type": "code",
   "execution_count": 38,
   "metadata": {},
   "outputs": [
    {
     "name": "stdout",
     "output_type": "stream",
     "text": [
      "2.299038105676658\n"
     ]
    }
   ],
   "source": [
    "# The area of the triangle formed by point xy and another pair or points\n",
    "tri_area = lambda xy, pair: 0.5 * np.linalg.norm(np.cross(*(pair-xy)))\n",
    "print(tri_area(4,pairs[0]))"
   ]
  },
  {
   "cell_type": "code",
   "execution_count": 41,
   "metadata": {},
   "outputs": [],
   "source": [
    "np.clip?"
   ]
  },
  {
   "cell_type": "code",
   "execution_count": 42,
   "metadata": {},
   "outputs": [],
   "source": [
    "def xy2bc(xy, tolerance=1.e-4):\n",
    "    '''Converts 2D Cartesian coordinates to barycentric.'''\n",
    "    coords = np.array([tri_area(xy, p) for p in pairs]) / AREA\n",
    "    return np.clip(coords, tolerance, 1.0 - tolerance)"
   ]
  },
  {
   "cell_type": "markdown",
   "metadata": {},
   "source": [
    "Having the barycentric coordinates for our simplex mesh vertices, we then need to compute the Dirichlet pdf values for these coordinates."
   ]
  },
  {
   "cell_type": "code",
   "execution_count": 43,
   "metadata": {},
   "outputs": [],
   "source": [
    "class Dirichlet(object):\n",
    "    def __init__(self, alpha):\n",
    "        from math import gamma\n",
    "        from operator import mul\n",
    "        self._alpha = np.array(alpha)\n",
    "        self._coef = gamma(np.sum(self._alpha)) / np.multiply.reduce([gamma(a) for a in self._alpha])\n",
    "    def pdf(self, x):\n",
    "        '''Returns pdf value for `x`.'''\n",
    "        from operator import mul\n",
    "        return self._coef * np.multiply.reduce([xx ** (aa - 1) for (xx, aa)in zip(x, self._alpha)])"
   ]
  },
  {
   "cell_type": "markdown",
   "metadata": {},
   "source": [
    "And lastly, we just need a function to draw the contours for a distribution. The function will draw pdf contours for a Dirichlet distribution where \n",
    "θ\n",
    "1\n",
    ", \n",
    "θ\n",
    "2\n",
    ", and \n",
    "θ\n",
    "3\n",
    " correspond to the lower left, lower right, and upper corners of the rendered triangle, respectively."
   ]
  },
  {
   "cell_type": "code",
   "execution_count": 44,
   "metadata": {},
   "outputs": [],
   "source": [
    "def draw_pdf_contours(dist, nlevels=200, subdiv=8, **kwargs):\n",
    "    import math\n",
    "\n",
    "    refiner = tri.UniformTriRefiner(triangle)\n",
    "    trimesh = refiner.refine_triangulation(subdiv=subdiv)\n",
    "    pvals = [dist.pdf(xy2bc(xy)) for xy in zip(trimesh.x, trimesh.y)]\n",
    "\n",
    "    plt.tricontourf(trimesh, pvals, nlevels, cmap='jet', **kwargs)\n",
    "    plt.axis('equal')\n",
    "    plt.xlim(0, 1)\n",
    "    plt.ylim(0, 0.75**0.5)\n",
    "    plt.axis('off')"
   ]
  },
  {
   "cell_type": "markdown",
   "metadata": {},
   "source": [
    "# Output"
   ]
  },
  {
   "cell_type": "markdown",
   "metadata": {},
   "source": [
    "Let's start with a few symmetric Dirichlet distributions. The case of $α_i (1,1,1)$, yields a uniform distribution, where all points on the simplex are equally probable:"
   ]
  },
  {
   "cell_type": "code",
   "execution_count": 45,
   "metadata": {},
   "outputs": [
    {
     "data": {
      "image/png": "[encoded data removed]",
      "text/plain": [
       "<Figure size 432x288 with 1 Axes>"
      ]
     },
     "metadata": {
      "needs_background": "light"
     },
     "output_type": "display_data"
    }
   ],
   "source": [
    "draw_pdf_contours(Dirichlet([1, 1, 1]))"
   ]
  },
  {
   "cell_type": "markdown",
   "metadata": {},
   "source": [
    "For values of $α_i < 1$,, the distribution concentrates in the corners and along the boundaries of the simplex."
   ]
  },
  {
   "cell_type": "code",
   "execution_count": 47,
   "metadata": {},
   "outputs": [
    {
     "data": {
      "image/png": "[encoded data removed]",
      "text/plain": [
       "<Figure size 432x288 with 1 Axes>"
      ]
     },
     "metadata": {
      "needs_background": "light"
     },
     "output_type": "display_data"
    }
   ],
   "source": [
    "draw_pdf_contours(Dirichlet([0.999, 0.999, 0.999]))"
   ]
  },
  {
   "cell_type": "markdown",
   "metadata": {},
   "source": [
    "The color scale runs from dark blue (lowest values) to red (highest values). Notice in the plot above that only the corners of the simplex are red and intermediate values lie along the boundary of the simplex.\n",
    "\n",
    "For values of $α_i > 1$, the distribution tends toward the center of the simplex."
   ]
  },
  {
   "cell_type": "code",
   "execution_count": 48,
   "metadata": {},
   "outputs": [
    {
     "data": {
      "image/png": "[encoded data removed]",
      "text/plain": [
       "<Figure size 432x288 with 1 Axes>"
      ]
     },
     "metadata": {
      "needs_background": "light"
     },
     "output_type": "display_data"
    }
   ],
   "source": [
    "draw_pdf_contours(Dirichlet([5, 5, 5]))"
   ]
  },
  {
   "cell_type": "markdown",
   "metadata": {},
   "source": [
    "As $α_i$ increases, the distribution becomes more tightly concentrated around the center of the simplex."
   ]
  },
  {
   "cell_type": "code",
   "execution_count": 49,
   "metadata": {},
   "outputs": [
    {
     "data": {
      "image/png": "[encoded data removed]",
      "text/plain": [
       "<Figure size 432x288 with 1 Axes>"
      ]
     },
     "metadata": {
      "needs_background": "light"
     },
     "output_type": "display_data"
    }
   ],
   "source": [
    "draw_pdf_contours(Dirichlet([50, 50, 50]))"
   ]
  },
  {
   "cell_type": "markdown",
   "metadata": {},
   "source": [
    "In the context of our example of manufacturing dice, we would produce consistently fair dice in the limit as \n",
    "$\\alpha_i \\rightarrow \\infty$.\n",
    "\n",
    "\n",
    "For a symmetric Dirichlet with $\\alpha_i > 1$ , we will produce fair dice, on average. If the goal is to produce loaded dice (e.g., with a higher probability of rolling a 3), we would want an asymmetric (noncentral) Dirichlet distribution with a higher value for \n",
    "$\\alpha_3$"
   ]
  },
  {
   "cell_type": "code",
   "execution_count": 50,
   "metadata": {},
   "outputs": [
    {
     "data": {
      "image/png": "[encoded data removed]",
      "text/plain": [
       "<Figure size 432x288 with 1 Axes>"
      ]
     },
     "metadata": {
      "needs_background": "light"
     },
     "output_type": "display_data"
    }
   ],
   "source": [
    "draw_pdf_contours(Dirichlet([30, 30, 50]))"
   ]
  },
  {
   "cell_type": "code",
   "execution_count": 51,
   "metadata": {},
   "outputs": [
    {
     "data": {
      "image/png": "[encoded data removed]",
      "text/plain": [
       "<Figure size 432x288 with 1 Axes>"
      ]
     },
     "metadata": {
      "needs_background": "light"
     },
     "output_type": "display_data"
    }
   ],
   "source": [
    "draw_pdf_contours(Dirichlet([1, 2, 3]))"
   ]
  },
  {
   "cell_type": "code",
   "execution_count": 52,
   "metadata": {},
   "outputs": [
    {
     "data": {
      "image/png": "[encoded data removed]",
      "text/plain": [
       "<Figure size 432x288 with 1 Axes>"
      ]
     },
     "metadata": {
      "needs_background": "light"
     },
     "output_type": "display_data"
    }
   ],
   "source": [
    "draw_pdf_contours(Dirichlet([2, 5, 15]))"
   ]
  },
  {
   "cell_type": "code",
   "execution_count": null,
   "metadata": {},
   "outputs": [],
   "source": []
  }
 ],
 "metadata": {
  "kernelspec": {
   "display_name": "Python 3",
   "language": "python",
   "name": "python3"
  },
  "language_info": {
   "codemirror_mode": {
    "name": "ipython",
    "version": 3
   },
   "file_extension": ".py",
   "mimetype": "text/x-python",
   "name": "python",
   "nbconvert_exporter": "python",
   "pygments_lexer": "ipython3",
   "version": "3.7.6"
  },
  "toc": {
   "base_numbering": 1,
   "nav_menu": {},
   "number_sections": true,
   "sideBar": true,
   "skip_h1_title": false,
   "title_cell": "Table of Contents",
   "title_sidebar": "Contents",
   "toc_cell": true,
   "toc_position": {},
   "toc_section_display": true,
   "toc_window_display": true
  }
 },
 "nbformat": 4,
 "nbformat_minor": 4
}
